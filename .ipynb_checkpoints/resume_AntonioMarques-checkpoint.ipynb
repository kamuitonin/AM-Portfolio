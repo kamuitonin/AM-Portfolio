{
 "cells": [
  {
   "cell_type": "markdown",
   "metadata": {},
   "source": [
    "# My Resume - Antonio Marques"
   ]
  },
  {
   "cell_type": "markdown",
   "metadata": {},
   "source": [
    "## Personal Information"
   ]
  },
  {
   "cell_type": "code",
   "execution_count": 3,
   "metadata": {},
   "outputs": [],
   "source": [
    "name = 'Antonio Marques'\n",
    "roles = 'Data Analyst | Data Scientist | Marketing & Customer Insights'\n",
    "email = 'omtonin@gmail.com'\n",
    "linkedin_profile = 'https://www.linkedin.com/in/antoniomarques88'"
   ]
  },
  {
   "cell_type": "markdown",
   "metadata": {},
   "source": [
    "## Qualifications"
   ]
  },
  {
   "cell_type": "code",
   "execution_count": null,
   "metadata": {},
   "outputs": [],
   "source": [
    "qualification_1 = 'Expertise in Planning, Designing and Deploying projects in Data Analytics and Machine Learning'\n",
    "qualification_2 = 'Committed to guiding a company to digital transformation and business decision-making'\n",
    "qualification_3 = 'Extensive experience in client-facing analytics and data-driven projects'\n",
    "qualification_4 = 'Well-developed communication and problem-solving skills'\n",
    "qualification_5 = 'Highly skilled in project management, time management, and teamwork'"
   ]
  },
  {
   "cell_type": "markdown",
   "metadata": {},
   "source": [
    "## Technical Skills"
   ]
  },
  {
   "cell_type": "code",
   "execution_count": null,
   "metadata": {},
   "outputs": [],
   "source": [
    "tech_skill_6years = ['MS Excel', 'MS Power Point', 'Google Analytics']\n",
    "tech_skill_4years = ['Sprinklr', 'NetBase', 'Facebook for Ads'] \n",
    "tech_skill_2years = ['R', 'Google Data Studio']\n",
    "tech_skill_1year = ['Python', 'Tableau', 'Power BI', 'SQL']\n",
    "tech_skill_studying = ['Hadoop/Spark', 'Google Cloud Platform', 'AWS', 'TensorFlow', 'Google BERT']"
   ]
  },
  {
   "cell_type": "markdown",
   "metadata": {},
   "source": [
    "## Work Experience"
   ]
  },
  {
   "cell_type": "code",
   "execution_count": null,
   "metadata": {},
   "outputs": [],
   "source": [
    "role_name_1 = 'Research Assistant'\n",
    "company_name_1 = 'AI/HUB - Durham College'\n",
    "company_description_1 = 'The Durham College Hub for Applied Research in Artificial Intelligence (the AI Hub) offers partners access to technical expertise and state-of-the-art facilities increasing company’s productivity and supporting growth.'\n",
    "start_date_1 = '04/11/2019' #dd/mm/yyyy\n",
    "end_date_1 = '31/03/2019' #dd/mm/yyyy\n",
    "location_1 = 'Oshawa, ON'\n",
    "achievements = ['Developed an artificial intelligence for with context capabilities for a chatbot solution in partnership with data engineer and web developer.']\n",
    "technologies_used_1 = ['Python', 'TensorFlow-Keras', 'SpaCy']"
   ]
  },
  {
   "cell_type": "code",
   "execution_count": null,
   "metadata": {},
   "outputs": [],
   "source": []
  },
  {
   "cell_type": "code",
   "execution_count": null,
   "metadata": {},
   "outputs": [],
   "source": []
  },
  {
   "cell_type": "code",
   "execution_count": null,
   "metadata": {},
   "outputs": [],
   "source": []
  },
  {
   "cell_type": "markdown",
   "metadata": {},
   "source": [
    "## Education"
   ]
  },
  {
   "cell_type": "code",
   "execution_count": null,
   "metadata": {},
   "outputs": [],
   "source": []
  },
  {
   "cell_type": "code",
   "execution_count": null,
   "metadata": {},
   "outputs": [],
   "source": []
  },
  {
   "cell_type": "markdown",
   "metadata": {},
   "source": [
    "### Teaching Experience"
   ]
  },
  {
   "cell_type": "code",
   "execution_count": null,
   "metadata": {},
   "outputs": [],
   "source": []
  },
  {
   "cell_type": "code",
   "execution_count": null,
   "metadata": {},
   "outputs": [],
   "source": []
  },
  {
   "cell_type": "markdown",
   "metadata": {},
   "source": [
    "### Academic Experience"
   ]
  },
  {
   "cell_type": "code",
   "execution_count": null,
   "metadata": {},
   "outputs": [],
   "source": []
  },
  {
   "cell_type": "markdown",
   "metadata": {},
   "source": [
    "### Volunteer Experience"
   ]
  },
  {
   "cell_type": "code",
   "execution_count": null,
   "metadata": {},
   "outputs": [],
   "source": []
  },
  {
   "cell_type": "code",
   "execution_count": null,
   "metadata": {},
   "outputs": [],
   "source": []
  },
  {
   "cell_type": "markdown",
   "metadata": {},
   "source": [
    "# Print Resume"
   ]
  },
  {
   "cell_type": "code",
   "execution_count": null,
   "metadata": {},
   "outputs": [],
   "source": []
  }
 ],
 "metadata": {
  "kernelspec": {
   "display_name": "Python 3",
   "language": "python",
   "name": "python3"
  },
  "language_info": {
   "codemirror_mode": {
    "name": "ipython",
    "version": 3
   },
   "file_extension": ".py",
   "mimetype": "text/x-python",
   "name": "python",
   "nbconvert_exporter": "python",
   "pygments_lexer": "ipython3",
   "version": "3.7.3"
  }
 },
 "nbformat": 4,
 "nbformat_minor": 2
}
